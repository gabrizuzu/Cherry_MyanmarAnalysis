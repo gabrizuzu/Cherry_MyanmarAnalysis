{
 "cells": [
  {
   "cell_type": "code",
   "execution_count": 33,
   "metadata": {},
   "outputs": [],
   "source": [
    "import pandas as pd\n",
    "import re\n",
    "\n",
    "# Funzione per estrarre i temi da V2Themes\n",
    "def extract_themes(v2themes):\n",
    "    if pd.isna(v2themes):  # Gestisce valori mancanti\n",
    "        return []\n",
    "    themes = v2themes.split(';')  # Divide i temi separati da ';'\n",
    "    themes = [re.sub(r',.*', '', theme) for theme in themes]  # Rimuove il peso (tutto dopo la virgola)\n",
    "    return themes\n",
    "\n",
    "df_themes = pd.read_csv('../Data/gkg_myanmar_filtered.csv')\n",
    "\n",
    "df_themes['theme'] = df_themes['V2Themes'].apply(extract_themes)\n",
    "df_themes = df_themes['theme'].explode('theme')  # Crea una riga per ogni tema\n",
    "# Conta i temi unici\n",
    "theme_counts = df_themes.value_counts().reset_index()\n",
    "theme_counts.columns = ['theme', 'count']\n",
    "\n",
    "theme_counts.to_csv('../Data/Themes.csv', index=False)"
   ]
  }
 ],
 "metadata": {
  "kernelspec": {
   "display_name": "Python 3",
   "language": "python",
   "name": "python3"
  },
  "language_info": {
   "codemirror_mode": {
    "name": "ipython",
    "version": 3
   },
   "file_extension": ".py",
   "mimetype": "text/x-python",
   "name": "python",
   "nbconvert_exporter": "python",
   "pygments_lexer": "ipython3",
   "version": "3.9.6"
  }
 },
 "nbformat": 4,
 "nbformat_minor": 2
}
