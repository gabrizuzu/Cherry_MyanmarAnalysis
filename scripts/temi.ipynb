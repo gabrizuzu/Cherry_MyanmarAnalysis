{
 "cells": [
  {
   "cell_type": "code",
   "execution_count": 1,
   "metadata": {},
   "outputs": [],
   "source": [
    "import pandas as pd\n",
    "import re\n",
    "\n",
    "# Funzione per estrarre i temi da V2Themes\n",
    "def extract_themes(v2themes):\n",
    "    if pd.isna(v2themes):  # Gestisce valori mancanti\n",
    "        return []\n",
    "    themes = v2themes.split(';')  # Divide i temi separati da ';'\n",
    "    themes = [re.sub(r',.*', '', theme) for theme in themes]  # Rimuove il peso (tutto dopo la virgola)\n",
    "    return themes\n",
    "\n",
    "df_themes = pd.read_csv('/Volumes/CHERRY_SSD/gkg_myanmar_filtered.csv')\n",
    "\n",
    "df_themes['theme'] = df_themes['V2Themes'].apply(extract_themes)\n",
    "df_themes = df_themes['theme'].explode('theme')  # Crea una riga per ogni tema\n",
    "# Conta i temi unici\n",
    "theme_counts = df_themes.value_counts().reset_index()\n",
    "theme_counts.columns = ['theme', 'count']\n",
    "\n",
    "theme_counts.to_csv('../Data/Themes.csv', index=False)"
   ]
  },
  {
   "cell_type": "code",
   "execution_count": 7,
   "metadata": {},
   "outputs": [],
   "source": [
    "import pandas as pd\n",
    "\n",
    "# Carica i file come dataframe\n",
    "df_themes = pd.read_csv('../Data/Themes.csv')\n",
    "df_v2themes_count = pd.read_csv('../Data/v2themes_count.csv')\n",
    "\n",
    "# Esegui il join utilizzando il metodo merge\n",
    "df_merged = pd.merge(df_themes, df_v2themes_count, on='theme', how='left')\n",
    "df_merged = df_merged[[\"theme\",\"count\",\"indicator\"]]\n",
    "df_merged['count'] = df_merged['count'].astype(int)\n",
    "# Visualizza il dataframe risultante\n",
    "df_merged.to_csv(\"../Data/merged_themes.csv\", index = False)\n"
   ]
  },
  {
   "cell_type": "code",
   "execution_count": 8,
   "metadata": {},
   "outputs": [],
   "source": [
    "# Esegui un left join e filtra le righe senza corrispondenza\n",
    "df_only_in_themes = df_themes[~df_themes['theme'].isin(df_v2themes_count['theme'])]\n",
    "\n",
    "# Salva il risultato in un file CSV\n",
    "df_only_in_themes.to_csv('../Data/themes_not_in_v2themes.csv', index=False)"
   ]
  },
  {
   "cell_type": "code",
   "execution_count": 16,
   "metadata": {},
   "outputs": [],
   "source": [
    "df_2 = pd.read_csv('../Data/themes_not_in_v2themes.csv')\n",
    "df_themes = pd.read_csv('../Data/Themes.csv')\n",
    "df_merged = pd.merge(df_themes, df_2, on='theme', how='left')\n",
    "df_merged.to_csv(\"../Data/merged2_themes.csv\", index = False)"
   ]
  },
  {
   "cell_type": "code",
   "execution_count": 18,
   "metadata": {},
   "outputs": [],
   "source": [
    "import pandas as pd\n",
    "\n",
    "# Carica i dataframe\n",
    "df_2 = pd.read_csv('../Data/themes_not_in_v2themes.csv')\n",
    "df_themes = pd.read_csv('../Data/Themes.csv')\n",
    "\n",
    "# Esegui il merge con un left join\n",
    "df_merged = pd.merge(df_themes, df_2, on='theme', how='left', suffixes=('_themes', '_df2'))\n",
    "\n",
    "# Seleziona l'attributo indicator corretto\n",
    "df_merged['indicator'] = df_merged['indicator_df2'].combine_first(df_merged['indicator_themes'])\n",
    "\n",
    "# Rimuovi le colonne temporanee (indicator_themes e indicator_df2)\n",
    "df_merged.drop(columns=['indicator_themes', 'indicator_df2','count_df2'], inplace=True)\n",
    "\n",
    "# Salva il risultato in un file CSV\n",
    "df_merged.to_csv(\"../Data/merged2_themes.csv\", index=False)"
   ]
  },
  {
   "cell_type": "code",
   "execution_count": 20,
   "metadata": {},
   "outputs": [],
   "source": [
    "df_merged = pd.read_csv(\"../Data/merged2_themes.csv\")\n",
    "\n",
    "temi = df_merged[df_merged['indicator'].notnull()]\n",
    "\n"
   ]
  },
  {
   "cell_type": "code",
   "execution_count": 22,
   "metadata": {},
   "outputs": [],
   "source": [
    "temi.to_csv(\"../Data/temi.csv\", index=False)"
   ]
  },
  {
   "cell_type": "code",
   "execution_count": 26,
   "metadata": {},
   "outputs": [],
   "source": [
    "temi.to_excel(\"../Data/themes.xlsx\")"
   ]
  }
 ],
 "metadata": {
  "kernelspec": {
   "display_name": "Python 3",
   "language": "python",
   "name": "python3"
  },
  "language_info": {
   "codemirror_mode": {
    "name": "ipython",
    "version": 3
   },
   "file_extension": ".py",
   "mimetype": "text/x-python",
   "name": "python",
   "nbconvert_exporter": "python",
   "pygments_lexer": "ipython3",
   "version": "3.9.6"
  }
 },
 "nbformat": 4,
 "nbformat_minor": 2
}
