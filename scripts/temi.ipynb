{
 "cells": [
  {
   "cell_type": "code",
   "execution_count": null,
   "metadata": {},
   "outputs": [],
   "source": [
    "df_themes = df[['DATE', 'Locations', 'V2Themes']].copy()\n",
    "df_themes['theme'] = df_themes['V2Themes'].apply(extract_themes)\n",
    "df_themes = df_themes.explode('theme')  # Crea una riga per ogni tema\n",
    "\n",
    "\n",
    "# Conta i temi unici\n",
    "theme_counts = df['V2thems'].value_counts().reset_index()\n",
    "theme_counts.columns = ['theme', 'count']"
   ]
  }
 ],
 "metadata": {
  "kernelspec": {
   "display_name": "Python 3",
   "language": "python",
   "name": "python3"
  },
  "language_info": {
   "codemirror_mode": {
    "name": "ipython",
    "version": 3
   },
   "file_extension": ".py",
   "mimetype": "text/x-python",
   "name": "python",
   "nbconvert_exporter": "python",
   "pygments_lexer": "ipython3",
   "version": "3.9.6"
  }
 },
 "nbformat": 4,
 "nbformat_minor": 2
}
